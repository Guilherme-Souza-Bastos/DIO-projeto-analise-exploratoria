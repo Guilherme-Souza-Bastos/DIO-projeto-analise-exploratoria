{
 "cells": [
  {
   "cell_type": "code",
   "execution_count": 1,
   "id": "c2c98394",
   "metadata": {
    "ExecuteTime": {
     "end_time": "2022-10-12T17:00:34.293270Z",
     "start_time": "2022-10-12T17:00:32.732918Z"
    }
   },
   "outputs": [],
   "source": [
    "import pandas as pd\n",
    "import matplotlib.pyplot as plt\n",
    "import seaborn as sns\n",
    "import numpy as np"
   ]
  },
  {
   "cell_type": "code",
   "execution_count": 2,
   "id": "ffef9858",
   "metadata": {
    "ExecuteTime": {
     "end_time": "2022-10-12T17:00:34.945418Z",
     "start_time": "2022-10-12T17:00:34.935415Z"
    }
   },
   "outputs": [],
   "source": [
    "# Estética dos Gráficos\n",
    "sns.set_style('darkgrid')"
   ]
  },
  {
   "cell_type": "code",
   "execution_count": 3,
   "id": "a9e31b3b",
   "metadata": {
    "ExecuteTime": {
     "end_time": "2022-10-12T17:00:35.807611Z",
     "start_time": "2022-10-12T17:00:35.799610Z"
    }
   },
   "outputs": [],
   "source": [
    "# tirando a notação científica\n",
    "np.set_printoptions(suppress=True)\n",
    "pd.set_option('display.float_format', '{:.2f}'.format)"
   ]
  },
  {
   "cell_type": "markdown",
   "id": "78a3b97a",
   "metadata": {},
   "source": [
    "### Importando a Base de Dados para um DataFrame "
   ]
  },
  {
   "cell_type": "code",
   "execution_count": 4,
   "id": "fc9cd709",
   "metadata": {
    "ExecuteTime": {
     "end_time": "2022-10-12T17:00:37.291946Z",
     "start_time": "2022-10-12T17:00:36.897857Z"
    }
   },
   "outputs": [
    {
     "data": {
      "text/html": [
       "<div>\n",
       "<style scoped>\n",
       "    .dataframe tbody tr th:only-of-type {\n",
       "        vertical-align: middle;\n",
       "    }\n",
       "\n",
       "    .dataframe tbody tr th {\n",
       "        vertical-align: top;\n",
       "    }\n",
       "\n",
       "    .dataframe thead th {\n",
       "        text-align: right;\n",
       "    }\n",
       "</style>\n",
       "<table border=\"1\" class=\"dataframe\">\n",
       "  <thead>\n",
       "    <tr style=\"text-align: right;\">\n",
       "      <th></th>\n",
       "      <th>Data Venda</th>\n",
       "      <th>Data Envio</th>\n",
       "      <th>ID Loja</th>\n",
       "      <th>ID Produto</th>\n",
       "      <th>ID Cliente</th>\n",
       "      <th>No. Venda</th>\n",
       "      <th>Custo Unitário</th>\n",
       "      <th>Preço Unitário</th>\n",
       "      <th>Quantidade</th>\n",
       "      <th>Valor Desconto</th>\n",
       "      <th>Valor Venda</th>\n",
       "      <th>Produto</th>\n",
       "      <th>Fabricante</th>\n",
       "      <th>Marca</th>\n",
       "      <th>Classe</th>\n",
       "      <th>Cor</th>\n",
       "    </tr>\n",
       "  </thead>\n",
       "  <tbody>\n",
       "    <tr>\n",
       "      <th>0</th>\n",
       "      <td>2008-05-09</td>\n",
       "      <td>2008-05-29</td>\n",
       "      <td>199</td>\n",
       "      <td>384</td>\n",
       "      <td>18839</td>\n",
       "      <td>200805093CS607</td>\n",
       "      <td>348.58</td>\n",
       "      <td>758.00</td>\n",
       "      <td>6</td>\n",
       "      <td>0.00</td>\n",
       "      <td>4548.00</td>\n",
       "      <td>Adventure Works Laptop15.4W M1548 Red</td>\n",
       "      <td>Adventure Works</td>\n",
       "      <td>Adventure Works</td>\n",
       "      <td>Regular</td>\n",
       "      <td>Red</td>\n",
       "    </tr>\n",
       "    <tr>\n",
       "      <th>1</th>\n",
       "      <td>2008-05-12</td>\n",
       "      <td>2008-05-17</td>\n",
       "      <td>306</td>\n",
       "      <td>384</td>\n",
       "      <td>19051</td>\n",
       "      <td>200805123CS567</td>\n",
       "      <td>348.58</td>\n",
       "      <td>758.00</td>\n",
       "      <td>6</td>\n",
       "      <td>0.00</td>\n",
       "      <td>4548.00</td>\n",
       "      <td>Adventure Works Laptop15.4W M1548 Red</td>\n",
       "      <td>Adventure Works</td>\n",
       "      <td>Adventure Works</td>\n",
       "      <td>Regular</td>\n",
       "      <td>Red</td>\n",
       "    </tr>\n",
       "    <tr>\n",
       "      <th>2</th>\n",
       "      <td>2008-05-14</td>\n",
       "      <td>2008-05-20</td>\n",
       "      <td>306</td>\n",
       "      <td>384</td>\n",
       "      <td>19052</td>\n",
       "      <td>200805143CS576</td>\n",
       "      <td>348.58</td>\n",
       "      <td>758.00</td>\n",
       "      <td>6</td>\n",
       "      <td>0.00</td>\n",
       "      <td>4548.00</td>\n",
       "      <td>Adventure Works Laptop15.4W M1548 Red</td>\n",
       "      <td>Adventure Works</td>\n",
       "      <td>Adventure Works</td>\n",
       "      <td>Regular</td>\n",
       "      <td>Red</td>\n",
       "    </tr>\n",
       "    <tr>\n",
       "      <th>3</th>\n",
       "      <td>2008-05-21</td>\n",
       "      <td>2008-05-27</td>\n",
       "      <td>306</td>\n",
       "      <td>384</td>\n",
       "      <td>19052</td>\n",
       "      <td>200805213CS576</td>\n",
       "      <td>348.58</td>\n",
       "      <td>758.00</td>\n",
       "      <td>6</td>\n",
       "      <td>0.00</td>\n",
       "      <td>4548.00</td>\n",
       "      <td>Adventure Works Laptop15.4W M1548 Red</td>\n",
       "      <td>Adventure Works</td>\n",
       "      <td>Adventure Works</td>\n",
       "      <td>Regular</td>\n",
       "      <td>Red</td>\n",
       "    </tr>\n",
       "    <tr>\n",
       "      <th>4</th>\n",
       "      <td>2008-06-20</td>\n",
       "      <td>2008-06-27</td>\n",
       "      <td>306</td>\n",
       "      <td>384</td>\n",
       "      <td>19053</td>\n",
       "      <td>200806203CS586</td>\n",
       "      <td>348.58</td>\n",
       "      <td>758.00</td>\n",
       "      <td>6</td>\n",
       "      <td>0.00</td>\n",
       "      <td>4548.00</td>\n",
       "      <td>Adventure Works Laptop15.4W M1548 Red</td>\n",
       "      <td>Adventure Works</td>\n",
       "      <td>Adventure Works</td>\n",
       "      <td>Regular</td>\n",
       "      <td>Red</td>\n",
       "    </tr>\n",
       "  </tbody>\n",
       "</table>\n",
       "</div>"
      ],
      "text/plain": [
       "  Data Venda Data Envio  ID Loja  ID Produto  ID Cliente       No. Venda  \\\n",
       "0 2008-05-09 2008-05-29      199         384       18839  200805093CS607   \n",
       "1 2008-05-12 2008-05-17      306         384       19051  200805123CS567   \n",
       "2 2008-05-14 2008-05-20      306         384       19052  200805143CS576   \n",
       "3 2008-05-21 2008-05-27      306         384       19052  200805213CS576   \n",
       "4 2008-06-20 2008-06-27      306         384       19053  200806203CS586   \n",
       "\n",
       "   Custo Unitário  Preço Unitário  Quantidade  Valor Desconto  Valor Venda  \\\n",
       "0          348.58          758.00           6            0.00      4548.00   \n",
       "1          348.58          758.00           6            0.00      4548.00   \n",
       "2          348.58          758.00           6            0.00      4548.00   \n",
       "3          348.58          758.00           6            0.00      4548.00   \n",
       "4          348.58          758.00           6            0.00      4548.00   \n",
       "\n",
       "                                 Produto       Fabricante            Marca  \\\n",
       "0  Adventure Works Laptop15.4W M1548 Red  Adventure Works  Adventure Works   \n",
       "1  Adventure Works Laptop15.4W M1548 Red  Adventure Works  Adventure Works   \n",
       "2  Adventure Works Laptop15.4W M1548 Red  Adventure Works  Adventure Works   \n",
       "3  Adventure Works Laptop15.4W M1548 Red  Adventure Works  Adventure Works   \n",
       "4  Adventure Works Laptop15.4W M1548 Red  Adventure Works  Adventure Works   \n",
       "\n",
       "    Classe  Cor  \n",
       "0  Regular  Red  \n",
       "1  Regular  Red  \n",
       "2  Regular  Red  \n",
       "3  Regular  Red  \n",
       "4  Regular  Red  "
      ]
     },
     "execution_count": 4,
     "metadata": {},
     "output_type": "execute_result"
    }
   ],
   "source": [
    "data = pd.read_excel('AdventureWorks.xlsx')\n",
    "data.head()"
   ]
  },
  {
   "cell_type": "markdown",
   "id": "de945392",
   "metadata": {},
   "source": [
    "### Informações relevante sobre a base de dados"
   ]
  },
  {
   "cell_type": "code",
   "execution_count": 5,
   "id": "07f9ce61",
   "metadata": {
    "ExecuteTime": {
     "end_time": "2022-10-12T17:00:38.644251Z",
     "start_time": "2022-10-12T17:00:38.629248Z"
    }
   },
   "outputs": [
    {
     "name": "stdout",
     "output_type": "stream",
     "text": [
      "<class 'pandas.core.frame.DataFrame'>\n",
      "RangeIndex: 904 entries, 0 to 903\n",
      "Data columns (total 16 columns):\n",
      " #   Column          Non-Null Count  Dtype         \n",
      "---  ------          --------------  -----         \n",
      " 0   Data Venda      904 non-null    datetime64[ns]\n",
      " 1   Data Envio      904 non-null    datetime64[ns]\n",
      " 2   ID Loja         904 non-null    int64         \n",
      " 3   ID Produto      904 non-null    int64         \n",
      " 4   ID Cliente      904 non-null    int64         \n",
      " 5   No. Venda       904 non-null    object        \n",
      " 6   Custo Unitário  904 non-null    float64       \n",
      " 7   Preço Unitário  904 non-null    float64       \n",
      " 8   Quantidade      904 non-null    int64         \n",
      " 9   Valor Desconto  904 non-null    float64       \n",
      " 10  Valor Venda     904 non-null    float64       \n",
      " 11  Produto         904 non-null    object        \n",
      " 12  Fabricante      904 non-null    object        \n",
      " 13  Marca           904 non-null    object        \n",
      " 14  Classe          904 non-null    object        \n",
      " 15  Cor             904 non-null    object        \n",
      "dtypes: datetime64[ns](2), float64(4), int64(4), object(6)\n",
      "memory usage: 113.1+ KB\n"
     ]
    }
   ],
   "source": [
    "data.info()"
   ]
  },
  {
   "cell_type": "code",
   "execution_count": 6,
   "id": "bcf14e22",
   "metadata": {
    "ExecuteTime": {
     "end_time": "2022-10-12T17:00:39.282394Z",
     "start_time": "2022-10-12T17:00:39.253388Z"
    }
   },
   "outputs": [
    {
     "data": {
      "text/html": [
       "<div>\n",
       "<style scoped>\n",
       "    .dataframe tbody tr th:only-of-type {\n",
       "        vertical-align: middle;\n",
       "    }\n",
       "\n",
       "    .dataframe tbody tr th {\n",
       "        vertical-align: top;\n",
       "    }\n",
       "\n",
       "    .dataframe thead th {\n",
       "        text-align: right;\n",
       "    }\n",
       "</style>\n",
       "<table border=\"1\" class=\"dataframe\">\n",
       "  <thead>\n",
       "    <tr style=\"text-align: right;\">\n",
       "      <th></th>\n",
       "      <th>ID Loja</th>\n",
       "      <th>ID Produto</th>\n",
       "      <th>ID Cliente</th>\n",
       "      <th>Custo Unitário</th>\n",
       "      <th>Preço Unitário</th>\n",
       "      <th>Quantidade</th>\n",
       "      <th>Valor Desconto</th>\n",
       "      <th>Valor Venda</th>\n",
       "    </tr>\n",
       "  </thead>\n",
       "  <tbody>\n",
       "    <tr>\n",
       "      <th>count</th>\n",
       "      <td>904.00</td>\n",
       "      <td>904.00</td>\n",
       "      <td>904.00</td>\n",
       "      <td>904.00</td>\n",
       "      <td>904.00</td>\n",
       "      <td>904.00</td>\n",
       "      <td>904.00</td>\n",
       "      <td>904.00</td>\n",
       "    </tr>\n",
       "    <tr>\n",
       "      <th>mean</th>\n",
       "      <td>270.02</td>\n",
       "      <td>1225.24</td>\n",
       "      <td>19029.09</td>\n",
       "      <td>272.01</td>\n",
       "      <td>742.53</td>\n",
       "      <td>62.95</td>\n",
       "      <td>689.12</td>\n",
       "      <td>6620.14</td>\n",
       "    </tr>\n",
       "    <tr>\n",
       "      <th>std</th>\n",
       "      <td>50.96</td>\n",
       "      <td>706.70</td>\n",
       "      <td>96.43</td>\n",
       "      <td>129.77</td>\n",
       "      <td>368.59</td>\n",
       "      <td>148.95</td>\n",
       "      <td>822.36</td>\n",
       "      <td>4319.41</td>\n",
       "    </tr>\n",
       "    <tr>\n",
       "      <th>min</th>\n",
       "      <td>199.00</td>\n",
       "      <td>366.00</td>\n",
       "      <td>18815.00</td>\n",
       "      <td>5.09</td>\n",
       "      <td>9.99</td>\n",
       "      <td>2.00</td>\n",
       "      <td>0.00</td>\n",
       "      <td>159.84</td>\n",
       "    </tr>\n",
       "    <tr>\n",
       "      <th>25%</th>\n",
       "      <td>199.00</td>\n",
       "      <td>384.00</td>\n",
       "      <td>18964.75</td>\n",
       "      <td>324.69</td>\n",
       "      <td>758.00</td>\n",
       "      <td>6.00</td>\n",
       "      <td>0.00</td>\n",
       "      <td>3920.00</td>\n",
       "    </tr>\n",
       "    <tr>\n",
       "      <th>50%</th>\n",
       "      <td>306.00</td>\n",
       "      <td>1202.00</td>\n",
       "      <td>19060.00</td>\n",
       "      <td>330.66</td>\n",
       "      <td>980.00</td>\n",
       "      <td>9.00</td>\n",
       "      <td>461.17</td>\n",
       "      <td>5798.70</td>\n",
       "    </tr>\n",
       "    <tr>\n",
       "      <th>75%</th>\n",
       "      <td>307.00</td>\n",
       "      <td>1226.00</td>\n",
       "      <td>19107.00</td>\n",
       "      <td>348.58</td>\n",
       "      <td>998.00</td>\n",
       "      <td>17.00</td>\n",
       "      <td>1005.08</td>\n",
       "      <td>7986.00</td>\n",
       "    </tr>\n",
       "    <tr>\n",
       "      <th>max</th>\n",
       "      <td>307.00</td>\n",
       "      <td>2497.00</td>\n",
       "      <td>19145.00</td>\n",
       "      <td>348.58</td>\n",
       "      <td>999.00</td>\n",
       "      <td>1560.00</td>\n",
       "      <td>6272.00</td>\n",
       "      <td>29400.00</td>\n",
       "    </tr>\n",
       "  </tbody>\n",
       "</table>\n",
       "</div>"
      ],
      "text/plain": [
       "       ID Loja  ID Produto  ID Cliente  Custo Unitário  Preço Unitário  \\\n",
       "count   904.00      904.00      904.00          904.00          904.00   \n",
       "mean    270.02     1225.24    19029.09          272.01          742.53   \n",
       "std      50.96      706.70       96.43          129.77          368.59   \n",
       "min     199.00      366.00    18815.00            5.09            9.99   \n",
       "25%     199.00      384.00    18964.75          324.69          758.00   \n",
       "50%     306.00     1202.00    19060.00          330.66          980.00   \n",
       "75%     307.00     1226.00    19107.00          348.58          998.00   \n",
       "max     307.00     2497.00    19145.00          348.58          999.00   \n",
       "\n",
       "       Quantidade  Valor Desconto  Valor Venda  \n",
       "count      904.00          904.00       904.00  \n",
       "mean        62.95          689.12      6620.14  \n",
       "std        148.95          822.36      4319.41  \n",
       "min          2.00            0.00       159.84  \n",
       "25%          6.00            0.00      3920.00  \n",
       "50%          9.00          461.17      5798.70  \n",
       "75%         17.00         1005.08      7986.00  \n",
       "max       1560.00         6272.00     29400.00  "
      ]
     },
     "execution_count": 6,
     "metadata": {},
     "output_type": "execute_result"
    }
   ],
   "source": [
    "data.describe()"
   ]
  },
  {
   "cell_type": "markdown",
   "id": "e00e3fd1",
   "metadata": {},
   "source": [
    "### Qual a Receita Total?"
   ]
  },
  {
   "cell_type": "code",
   "execution_count": 7,
   "id": "7c941775",
   "metadata": {
    "ExecuteTime": {
     "end_time": "2022-10-12T17:00:40.351636Z",
     "start_time": "2022-10-12T17:00:40.333632Z"
    }
   },
   "outputs": [
    {
     "data": {
      "text/plain": [
       "5984606.14"
      ]
     },
     "execution_count": 7,
     "metadata": {},
     "output_type": "execute_result"
    }
   ],
   "source": [
    "round( data['Valor Venda'].sum(), 2 )"
   ]
  },
  {
   "cell_type": "markdown",
   "id": "fdde62f8",
   "metadata": {},
   "source": [
    "### Qual o Custo Total?"
   ]
  },
  {
   "cell_type": "code",
   "execution_count": 8,
   "id": "79acea24",
   "metadata": {
    "ExecuteTime": {
     "end_time": "2022-10-12T17:00:41.563909Z",
     "start_time": "2022-10-12T17:00:41.546905Z"
    }
   },
   "outputs": [],
   "source": [
    "data['Custo Total'] = data['Custo Unitário']*data['Quantidade']"
   ]
  },
  {
   "cell_type": "code",
   "execution_count": 9,
   "id": "402fc41d",
   "metadata": {
    "ExecuteTime": {
     "end_time": "2022-10-12T17:00:42.073024Z",
     "start_time": "2022-10-12T17:00:42.052019Z"
    },
    "scrolled": false
   },
   "outputs": [
    {
     "data": {
      "text/html": [
       "<div>\n",
       "<style scoped>\n",
       "    .dataframe tbody tr th:only-of-type {\n",
       "        vertical-align: middle;\n",
       "    }\n",
       "\n",
       "    .dataframe tbody tr th {\n",
       "        vertical-align: top;\n",
       "    }\n",
       "\n",
       "    .dataframe thead th {\n",
       "        text-align: right;\n",
       "    }\n",
       "</style>\n",
       "<table border=\"1\" class=\"dataframe\">\n",
       "  <thead>\n",
       "    <tr style=\"text-align: right;\">\n",
       "      <th></th>\n",
       "      <th>Custo Total</th>\n",
       "      <th>Custo Unitário</th>\n",
       "      <th>Quantidade</th>\n",
       "    </tr>\n",
       "  </thead>\n",
       "  <tbody>\n",
       "    <tr>\n",
       "      <th>0</th>\n",
       "      <td>2091.48</td>\n",
       "      <td>348.58</td>\n",
       "      <td>6</td>\n",
       "    </tr>\n",
       "    <tr>\n",
       "      <th>1</th>\n",
       "      <td>2091.48</td>\n",
       "      <td>348.58</td>\n",
       "      <td>6</td>\n",
       "    </tr>\n",
       "    <tr>\n",
       "      <th>2</th>\n",
       "      <td>2091.48</td>\n",
       "      <td>348.58</td>\n",
       "      <td>6</td>\n",
       "    </tr>\n",
       "    <tr>\n",
       "      <th>3</th>\n",
       "      <td>2091.48</td>\n",
       "      <td>348.58</td>\n",
       "      <td>6</td>\n",
       "    </tr>\n",
       "    <tr>\n",
       "      <th>4</th>\n",
       "      <td>2091.48</td>\n",
       "      <td>348.58</td>\n",
       "      <td>6</td>\n",
       "    </tr>\n",
       "    <tr>\n",
       "      <th>...</th>\n",
       "      <td>...</td>\n",
       "      <td>...</td>\n",
       "      <td>...</td>\n",
       "    </tr>\n",
       "    <tr>\n",
       "      <th>899</th>\n",
       "      <td>1985.94</td>\n",
       "      <td>330.99</td>\n",
       "      <td>6</td>\n",
       "    </tr>\n",
       "    <tr>\n",
       "      <th>900</th>\n",
       "      <td>1948.14</td>\n",
       "      <td>324.69</td>\n",
       "      <td>6</td>\n",
       "    </tr>\n",
       "    <tr>\n",
       "      <th>901</th>\n",
       "      <td>1948.14</td>\n",
       "      <td>324.69</td>\n",
       "      <td>6</td>\n",
       "    </tr>\n",
       "    <tr>\n",
       "      <th>902</th>\n",
       "      <td>1985.94</td>\n",
       "      <td>330.99</td>\n",
       "      <td>6</td>\n",
       "    </tr>\n",
       "    <tr>\n",
       "      <th>903</th>\n",
       "      <td>1948.14</td>\n",
       "      <td>324.69</td>\n",
       "      <td>6</td>\n",
       "    </tr>\n",
       "  </tbody>\n",
       "</table>\n",
       "<p>904 rows × 3 columns</p>\n",
       "</div>"
      ],
      "text/plain": [
       "     Custo Total  Custo Unitário  Quantidade\n",
       "0        2091.48          348.58           6\n",
       "1        2091.48          348.58           6\n",
       "2        2091.48          348.58           6\n",
       "3        2091.48          348.58           6\n",
       "4        2091.48          348.58           6\n",
       "..           ...             ...         ...\n",
       "899      1985.94          330.99           6\n",
       "900      1948.14          324.69           6\n",
       "901      1948.14          324.69           6\n",
       "902      1985.94          330.99           6\n",
       "903      1948.14          324.69           6\n",
       "\n",
       "[904 rows x 3 columns]"
      ]
     },
     "execution_count": 9,
     "metadata": {},
     "output_type": "execute_result"
    }
   ],
   "source": [
    "# Visualizando a nova coluna criada\n",
    "data[['Custo Total','Custo Unitário','Quantidade']]"
   ]
  },
  {
   "cell_type": "code",
   "execution_count": 10,
   "id": "fbd4c602",
   "metadata": {
    "ExecuteTime": {
     "end_time": "2022-10-12T17:00:42.500120Z",
     "start_time": "2022-10-12T17:00:42.493118Z"
    }
   },
   "outputs": [
    {
     "data": {
      "text/plain": [
       "2486783.05"
      ]
     },
     "execution_count": 10,
     "metadata": {},
     "output_type": "execute_result"
    }
   ],
   "source": [
    "round( data['Custo Total'],2 ).sum()"
   ]
  },
  {
   "cell_type": "markdown",
   "id": "20668679",
   "metadata": {},
   "source": [
    "### Qual o Lucro Total?"
   ]
  },
  {
   "cell_type": "code",
   "execution_count": 11,
   "id": "b008dc30",
   "metadata": {
    "ExecuteTime": {
     "end_time": "2022-10-12T17:00:43.456336Z",
     "start_time": "2022-10-12T17:00:43.441332Z"
    }
   },
   "outputs": [],
   "source": [
    "data['Lucro'] = data['Valor Venda'] - data['Custo Total']"
   ]
  },
  {
   "cell_type": "code",
   "execution_count": 12,
   "id": "47680fe1",
   "metadata": {
    "ExecuteTime": {
     "end_time": "2022-10-12T17:00:43.919440Z",
     "start_time": "2022-10-12T17:00:43.900435Z"
    }
   },
   "outputs": [
    {
     "data": {
      "text/html": [
       "<div>\n",
       "<style scoped>\n",
       "    .dataframe tbody tr th:only-of-type {\n",
       "        vertical-align: middle;\n",
       "    }\n",
       "\n",
       "    .dataframe tbody tr th {\n",
       "        vertical-align: top;\n",
       "    }\n",
       "\n",
       "    .dataframe thead th {\n",
       "        text-align: right;\n",
       "    }\n",
       "</style>\n",
       "<table border=\"1\" class=\"dataframe\">\n",
       "  <thead>\n",
       "    <tr style=\"text-align: right;\">\n",
       "      <th></th>\n",
       "      <th>Lucro</th>\n",
       "      <th>Valor Venda</th>\n",
       "      <th>Custo Total</th>\n",
       "    </tr>\n",
       "  </thead>\n",
       "  <tbody>\n",
       "    <tr>\n",
       "      <th>0</th>\n",
       "      <td>2456.52</td>\n",
       "      <td>4548.00</td>\n",
       "      <td>2091.48</td>\n",
       "    </tr>\n",
       "    <tr>\n",
       "      <th>1</th>\n",
       "      <td>2456.52</td>\n",
       "      <td>4548.00</td>\n",
       "      <td>2091.48</td>\n",
       "    </tr>\n",
       "    <tr>\n",
       "      <th>2</th>\n",
       "      <td>2456.52</td>\n",
       "      <td>4548.00</td>\n",
       "      <td>2091.48</td>\n",
       "    </tr>\n",
       "    <tr>\n",
       "      <th>3</th>\n",
       "      <td>2456.52</td>\n",
       "      <td>4548.00</td>\n",
       "      <td>2091.48</td>\n",
       "    </tr>\n",
       "    <tr>\n",
       "      <th>4</th>\n",
       "      <td>2456.52</td>\n",
       "      <td>4548.00</td>\n",
       "      <td>2091.48</td>\n",
       "    </tr>\n",
       "    <tr>\n",
       "      <th>...</th>\n",
       "      <td>...</td>\n",
       "      <td>...</td>\n",
       "      <td>...</td>\n",
       "    </tr>\n",
       "    <tr>\n",
       "      <th>899</th>\n",
       "      <td>3588.48</td>\n",
       "      <td>5574.42</td>\n",
       "      <td>1985.94</td>\n",
       "    </tr>\n",
       "    <tr>\n",
       "      <th>900</th>\n",
       "      <td>2755.86</td>\n",
       "      <td>4704.00</td>\n",
       "      <td>1948.14</td>\n",
       "    </tr>\n",
       "    <tr>\n",
       "      <th>901</th>\n",
       "      <td>2755.86</td>\n",
       "      <td>4704.00</td>\n",
       "      <td>1948.14</td>\n",
       "    </tr>\n",
       "    <tr>\n",
       "      <th>902</th>\n",
       "      <td>2809.26</td>\n",
       "      <td>4795.20</td>\n",
       "      <td>1985.94</td>\n",
       "    </tr>\n",
       "    <tr>\n",
       "      <th>903</th>\n",
       "      <td>2755.86</td>\n",
       "      <td>4704.00</td>\n",
       "      <td>1948.14</td>\n",
       "    </tr>\n",
       "  </tbody>\n",
       "</table>\n",
       "<p>904 rows × 3 columns</p>\n",
       "</div>"
      ],
      "text/plain": [
       "      Lucro  Valor Venda  Custo Total\n",
       "0   2456.52      4548.00      2091.48\n",
       "1   2456.52      4548.00      2091.48\n",
       "2   2456.52      4548.00      2091.48\n",
       "3   2456.52      4548.00      2091.48\n",
       "4   2456.52      4548.00      2091.48\n",
       "..      ...          ...          ...\n",
       "899 3588.48      5574.42      1985.94\n",
       "900 2755.86      4704.00      1948.14\n",
       "901 2755.86      4704.00      1948.14\n",
       "902 2809.26      4795.20      1985.94\n",
       "903 2755.86      4704.00      1948.14\n",
       "\n",
       "[904 rows x 3 columns]"
      ]
     },
     "execution_count": 12,
     "metadata": {},
     "output_type": "execute_result"
    }
   ],
   "source": [
    "data[['Lucro','Valor Venda','Custo Total']]"
   ]
  },
  {
   "cell_type": "code",
   "execution_count": 13,
   "id": "ae01ded3",
   "metadata": {
    "ExecuteTime": {
     "end_time": "2022-10-12T17:00:44.414552Z",
     "start_time": "2022-10-12T17:00:44.396548Z"
    }
   },
   "outputs": [
    {
     "data": {
      "text/plain": [
       "3497823.0"
      ]
     },
     "execution_count": 13,
     "metadata": {},
     "output_type": "execute_result"
    }
   ],
   "source": [
    "round( data['Lucro'],2 ).sum()"
   ]
  },
  {
   "cell_type": "code",
   "execution_count": 14,
   "id": "8a5c6c23",
   "metadata": {
    "ExecuteTime": {
     "end_time": "2022-10-12T17:00:44.844648Z",
     "start_time": "2022-10-12T17:00:44.833646Z"
    }
   },
   "outputs": [
    {
     "data": {
      "text/plain": [
       "3497823.0"
      ]
     },
     "execution_count": 14,
     "metadata": {},
     "output_type": "execute_result"
    }
   ],
   "source": [
    "# Ou ainda\n",
    "round( (data['Valor Venda']-data['Custo Total']),2 ).sum()"
   ]
  },
  {
   "cell_type": "markdown",
   "id": "36e01019",
   "metadata": {},
   "source": [
    "### Quantos dias são necessários para enviar o produto"
   ]
  },
  {
   "cell_type": "code",
   "execution_count": 15,
   "id": "4cb09acc",
   "metadata": {
    "ExecuteTime": {
     "end_time": "2022-10-12T17:00:45.703842Z",
     "start_time": "2022-10-12T17:00:45.691840Z"
    }
   },
   "outputs": [],
   "source": [
    "data['Tempo de Envio'] = data['Data Envio'] - data['Data Venda']"
   ]
  },
  {
   "cell_type": "code",
   "execution_count": 16,
   "id": "70aa0245",
   "metadata": {
    "ExecuteTime": {
     "end_time": "2022-10-12T17:00:46.180950Z",
     "start_time": "2022-10-12T17:00:46.169948Z"
    }
   },
   "outputs": [
    {
     "data": {
      "text/html": [
       "<div>\n",
       "<style scoped>\n",
       "    .dataframe tbody tr th:only-of-type {\n",
       "        vertical-align: middle;\n",
       "    }\n",
       "\n",
       "    .dataframe tbody tr th {\n",
       "        vertical-align: top;\n",
       "    }\n",
       "\n",
       "    .dataframe thead th {\n",
       "        text-align: right;\n",
       "    }\n",
       "</style>\n",
       "<table border=\"1\" class=\"dataframe\">\n",
       "  <thead>\n",
       "    <tr style=\"text-align: right;\">\n",
       "      <th></th>\n",
       "      <th>Tempo de Envio</th>\n",
       "      <th>Data Envio</th>\n",
       "      <th>Data Venda</th>\n",
       "    </tr>\n",
       "  </thead>\n",
       "  <tbody>\n",
       "    <tr>\n",
       "      <th>0</th>\n",
       "      <td>20 days</td>\n",
       "      <td>2008-05-29</td>\n",
       "      <td>2008-05-09</td>\n",
       "    </tr>\n",
       "    <tr>\n",
       "      <th>1</th>\n",
       "      <td>5 days</td>\n",
       "      <td>2008-05-17</td>\n",
       "      <td>2008-05-12</td>\n",
       "    </tr>\n",
       "    <tr>\n",
       "      <th>2</th>\n",
       "      <td>6 days</td>\n",
       "      <td>2008-05-20</td>\n",
       "      <td>2008-05-14</td>\n",
       "    </tr>\n",
       "    <tr>\n",
       "      <th>3</th>\n",
       "      <td>6 days</td>\n",
       "      <td>2008-05-27</td>\n",
       "      <td>2008-05-21</td>\n",
       "    </tr>\n",
       "    <tr>\n",
       "      <th>4</th>\n",
       "      <td>7 days</td>\n",
       "      <td>2008-06-27</td>\n",
       "      <td>2008-06-20</td>\n",
       "    </tr>\n",
       "    <tr>\n",
       "      <th>...</th>\n",
       "      <td>...</td>\n",
       "      <td>...</td>\n",
       "      <td>...</td>\n",
       "    </tr>\n",
       "    <tr>\n",
       "      <th>899</th>\n",
       "      <td>13 days</td>\n",
       "      <td>2008-04-04</td>\n",
       "      <td>2008-03-22</td>\n",
       "    </tr>\n",
       "    <tr>\n",
       "      <th>900</th>\n",
       "      <td>11 days</td>\n",
       "      <td>2008-10-15</td>\n",
       "      <td>2008-10-04</td>\n",
       "    </tr>\n",
       "    <tr>\n",
       "      <th>901</th>\n",
       "      <td>4 days</td>\n",
       "      <td>2008-12-15</td>\n",
       "      <td>2008-12-11</td>\n",
       "    </tr>\n",
       "    <tr>\n",
       "      <th>902</th>\n",
       "      <td>4 days</td>\n",
       "      <td>2008-12-21</td>\n",
       "      <td>2008-12-17</td>\n",
       "    </tr>\n",
       "    <tr>\n",
       "      <th>903</th>\n",
       "      <td>4 days</td>\n",
       "      <td>2008-12-25</td>\n",
       "      <td>2008-12-21</td>\n",
       "    </tr>\n",
       "  </tbody>\n",
       "</table>\n",
       "<p>904 rows × 3 columns</p>\n",
       "</div>"
      ],
      "text/plain": [
       "    Tempo de Envio Data Envio Data Venda\n",
       "0          20 days 2008-05-29 2008-05-09\n",
       "1           5 days 2008-05-17 2008-05-12\n",
       "2           6 days 2008-05-20 2008-05-14\n",
       "3           6 days 2008-05-27 2008-05-21\n",
       "4           7 days 2008-06-27 2008-06-20\n",
       "..             ...        ...        ...\n",
       "899        13 days 2008-04-04 2008-03-22\n",
       "900        11 days 2008-10-15 2008-10-04\n",
       "901         4 days 2008-12-15 2008-12-11\n",
       "902         4 days 2008-12-21 2008-12-17\n",
       "903         4 days 2008-12-25 2008-12-21\n",
       "\n",
       "[904 rows x 3 columns]"
      ]
     },
     "execution_count": 16,
     "metadata": {},
     "output_type": "execute_result"
    }
   ],
   "source": [
    "data[['Tempo de Envio','Data Envio','Data Venda']]"
   ]
  },
  {
   "cell_type": "markdown",
   "id": "1652a43d",
   "metadata": {},
   "source": [
    "### Qual a média do tempo de envio para cada Marca?"
   ]
  },
  {
   "cell_type": "code",
   "execution_count": 17,
   "id": "118846ae",
   "metadata": {
    "ExecuteTime": {
     "end_time": "2022-10-12T17:00:47.074151Z",
     "start_time": "2022-10-12T17:00:47.062149Z"
    }
   },
   "outputs": [
    {
     "data": {
      "text/plain": [
       "array(['Adventure Works', 'Fabrikam', 'Contoso'], dtype=object)"
      ]
     },
     "execution_count": 17,
     "metadata": {},
     "output_type": "execute_result"
    }
   ],
   "source": [
    "# Verificando quantas marcas temos\n",
    "data['Marca'].unique()"
   ]
  },
  {
   "cell_type": "code",
   "execution_count": 18,
   "id": "95954f85",
   "metadata": {
    "ExecuteTime": {
     "end_time": "2022-10-12T17:00:47.490245Z",
     "start_time": "2022-10-12T17:00:47.484243Z"
    }
   },
   "outputs": [
    {
     "name": "stdout",
     "output_type": "stream",
     "text": [
      "<class 'pandas.core.series.Series'>\n",
      "RangeIndex: 904 entries, 0 to 903\n",
      "Series name: Tempo de Envio\n",
      "Non-Null Count  Dtype          \n",
      "--------------  -----          \n",
      "904 non-null    timedelta64[ns]\n",
      "dtypes: timedelta64[ns](1)\n",
      "memory usage: 7.2 KB\n"
     ]
    }
   ],
   "source": [
    "# Verificando o tipo da coluna 'Tempo de Envio'\n",
    "data['Tempo de Envio'].info()"
   ]
  },
  {
   "cell_type": "code",
   "execution_count": 19,
   "id": "3e4a9f36",
   "metadata": {
    "ExecuteTime": {
     "end_time": "2022-10-12T17:00:47.937346Z",
     "start_time": "2022-10-12T17:00:47.933344Z"
    }
   },
   "outputs": [],
   "source": [
    "# Mudando o tipo da coluna 'Tempo de Envio' para int64\n",
    "data['Tempo de Envio'] = data['Tempo de Envio'].dt.days"
   ]
  },
  {
   "cell_type": "code",
   "execution_count": 20,
   "id": "56c0034c",
   "metadata": {
    "ExecuteTime": {
     "end_time": "2022-10-12T17:00:48.352440Z",
     "start_time": "2022-10-12T17:00:48.343437Z"
    }
   },
   "outputs": [
    {
     "name": "stdout",
     "output_type": "stream",
     "text": [
      "<class 'pandas.core.series.Series'>\n",
      "RangeIndex: 904 entries, 0 to 903\n",
      "Series name: Tempo de Envio\n",
      "Non-Null Count  Dtype\n",
      "--------------  -----\n",
      "904 non-null    int64\n",
      "dtypes: int64(1)\n",
      "memory usage: 7.2 KB\n"
     ]
    }
   ],
   "source": [
    "data['Tempo de Envio'].info()"
   ]
  },
  {
   "cell_type": "code",
   "execution_count": 21,
   "id": "3f5d3826",
   "metadata": {
    "ExecuteTime": {
     "end_time": "2022-10-12T17:00:48.734525Z",
     "start_time": "2022-10-12T17:00:48.725523Z"
    }
   },
   "outputs": [
    {
     "data": {
      "text/html": [
       "<div>\n",
       "<style scoped>\n",
       "    .dataframe tbody tr th:only-of-type {\n",
       "        vertical-align: middle;\n",
       "    }\n",
       "\n",
       "    .dataframe tbody tr th {\n",
       "        vertical-align: top;\n",
       "    }\n",
       "\n",
       "    .dataframe thead th {\n",
       "        text-align: right;\n",
       "    }\n",
       "</style>\n",
       "<table border=\"1\" class=\"dataframe\">\n",
       "  <thead>\n",
       "    <tr style=\"text-align: right;\">\n",
       "      <th></th>\n",
       "      <th>Tempo de Envio</th>\n",
       "    </tr>\n",
       "    <tr>\n",
       "      <th>Marca</th>\n",
       "      <th></th>\n",
       "    </tr>\n",
       "  </thead>\n",
       "  <tbody>\n",
       "    <tr>\n",
       "      <th>Adventure Works</th>\n",
       "      <td>8.66</td>\n",
       "    </tr>\n",
       "    <tr>\n",
       "      <th>Contoso</th>\n",
       "      <td>8.47</td>\n",
       "    </tr>\n",
       "    <tr>\n",
       "      <th>Fabrikam</th>\n",
       "      <td>8.51</td>\n",
       "    </tr>\n",
       "  </tbody>\n",
       "</table>\n",
       "</div>"
      ],
      "text/plain": [
       "                 Tempo de Envio\n",
       "Marca                          \n",
       "Adventure Works            8.66\n",
       "Contoso                    8.47\n",
       "Fabrikam                   8.51"
      ]
     },
     "execution_count": 21,
     "metadata": {},
     "output_type": "execute_result"
    }
   ],
   "source": [
    "data[['Tempo de Envio','Marca']].groupby('Marca').mean()"
   ]
  },
  {
   "cell_type": "markdown",
   "id": "37f83af9",
   "metadata": {},
   "source": [
    "### A Base de Dados Possui Valores Ausentes?"
   ]
  },
  {
   "cell_type": "code",
   "execution_count": 22,
   "id": "63d2faf0",
   "metadata": {
    "ExecuteTime": {
     "end_time": "2022-10-12T17:00:49.321658Z",
     "start_time": "2022-10-12T17:00:49.312656Z"
    }
   },
   "outputs": [
    {
     "data": {
      "text/plain": [
       "Data Venda        0\n",
       "Data Envio        0\n",
       "ID Loja           0\n",
       "ID Produto        0\n",
       "ID Cliente        0\n",
       "No. Venda         0\n",
       "Custo Unitário    0\n",
       "Preço Unitário    0\n",
       "Quantidade        0\n",
       "Valor Desconto    0\n",
       "Valor Venda       0\n",
       "Produto           0\n",
       "Fabricante        0\n",
       "Marca             0\n",
       "Classe            0\n",
       "Cor               0\n",
       "Custo Total       0\n",
       "Lucro             0\n",
       "Tempo de Envio    0\n",
       "dtype: int64"
      ]
     },
     "execution_count": 22,
     "metadata": {},
     "output_type": "execute_result"
    }
   ],
   "source": [
    "data.isna().sum()"
   ]
  },
  {
   "cell_type": "markdown",
   "id": "92a4f8f1",
   "metadata": {},
   "source": [
    "### Qual o Lucro por Ano e por Marca?"
   ]
  },
  {
   "cell_type": "code",
   "execution_count": 23,
   "id": "f7c71a24",
   "metadata": {
    "ExecuteTime": {
     "end_time": "2022-10-12T17:00:49.700743Z",
     "start_time": "2022-10-12T17:00:49.688741Z"
    }
   },
   "outputs": [
    {
     "data": {
      "text/plain": [
       "array([2008, 2009], dtype=int64)"
      ]
     },
     "execution_count": 23,
     "metadata": {},
     "output_type": "execute_result"
    }
   ],
   "source": [
    "# Verificando quantos anos temos\n",
    "data['Data Venda'].dt.year.unique()"
   ]
  },
  {
   "cell_type": "code",
   "execution_count": 24,
   "id": "0cc9626d",
   "metadata": {
    "ExecuteTime": {
     "end_time": "2022-10-12T17:00:49.876783Z",
     "start_time": "2022-10-12T17:00:49.861780Z"
    }
   },
   "outputs": [
    {
     "data": {
      "text/html": [
       "<div>\n",
       "<style scoped>\n",
       "    .dataframe tbody tr th:only-of-type {\n",
       "        vertical-align: middle;\n",
       "    }\n",
       "\n",
       "    .dataframe tbody tr th {\n",
       "        vertical-align: top;\n",
       "    }\n",
       "\n",
       "    .dataframe thead th {\n",
       "        text-align: right;\n",
       "    }\n",
       "</style>\n",
       "<table border=\"1\" class=\"dataframe\">\n",
       "  <thead>\n",
       "    <tr style=\"text-align: right;\">\n",
       "      <th></th>\n",
       "      <th></th>\n",
       "      <th>Lucro</th>\n",
       "    </tr>\n",
       "    <tr>\n",
       "      <th>Data Venda</th>\n",
       "      <th>Marca</th>\n",
       "      <th></th>\n",
       "    </tr>\n",
       "  </thead>\n",
       "  <tbody>\n",
       "    <tr>\n",
       "      <th rowspan=\"3\" valign=\"top\">2008</th>\n",
       "      <th>Adventure Works</th>\n",
       "      <td>2977.10</td>\n",
       "    </tr>\n",
       "    <tr>\n",
       "      <th>Contoso</th>\n",
       "      <td>705.20</td>\n",
       "    </tr>\n",
       "    <tr>\n",
       "      <th>Fabrikam</th>\n",
       "      <td>5444.13</td>\n",
       "    </tr>\n",
       "    <tr>\n",
       "      <th rowspan=\"3\" valign=\"top\">2009</th>\n",
       "      <th>Adventure Works</th>\n",
       "      <td>3002.93</td>\n",
       "    </tr>\n",
       "    <tr>\n",
       "      <th>Contoso</th>\n",
       "      <td>1502.81</td>\n",
       "    </tr>\n",
       "    <tr>\n",
       "      <th>Fabrikam</th>\n",
       "      <td>4971.59</td>\n",
       "    </tr>\n",
       "  </tbody>\n",
       "</table>\n",
       "</div>"
      ],
      "text/plain": [
       "                             Lucro\n",
       "Data Venda Marca                  \n",
       "2008       Adventure Works 2977.10\n",
       "           Contoso          705.20\n",
       "           Fabrikam        5444.13\n",
       "2009       Adventure Works 3002.93\n",
       "           Contoso         1502.81\n",
       "           Fabrikam        4971.59"
      ]
     },
     "execution_count": 24,
     "metadata": {},
     "output_type": "execute_result"
    }
   ],
   "source": [
    "data[['Data Venda','Marca','Lucro']].groupby([data['Data Venda'].dt.year,'Marca']).mean()"
   ]
  },
  {
   "cell_type": "code",
   "execution_count": 25,
   "id": "e77b0631",
   "metadata": {
    "ExecuteTime": {
     "end_time": "2022-10-12T17:00:50.051822Z",
     "start_time": "2022-10-12T17:00:50.040820Z"
    }
   },
   "outputs": [],
   "source": [
    "# Criando nova Coluna correspondente ao Ano de Venda\n",
    "data['Ano Venda'] = data['Data Venda'].dt.year"
   ]
  },
  {
   "cell_type": "code",
   "execution_count": 26,
   "id": "e410a5f1",
   "metadata": {
    "ExecuteTime": {
     "end_time": "2022-10-12T17:00:50.225862Z",
     "start_time": "2022-10-12T17:00:50.211858Z"
    }
   },
   "outputs": [
    {
     "data": {
      "text/html": [
       "<div>\n",
       "<style scoped>\n",
       "    .dataframe tbody tr th:only-of-type {\n",
       "        vertical-align: middle;\n",
       "    }\n",
       "\n",
       "    .dataframe tbody tr th {\n",
       "        vertical-align: top;\n",
       "    }\n",
       "\n",
       "    .dataframe thead th {\n",
       "        text-align: right;\n",
       "    }\n",
       "</style>\n",
       "<table border=\"1\" class=\"dataframe\">\n",
       "  <thead>\n",
       "    <tr style=\"text-align: right;\">\n",
       "      <th></th>\n",
       "      <th></th>\n",
       "      <th>Lucro</th>\n",
       "    </tr>\n",
       "    <tr>\n",
       "      <th>Ano Venda</th>\n",
       "      <th>Marca</th>\n",
       "      <th></th>\n",
       "    </tr>\n",
       "  </thead>\n",
       "  <tbody>\n",
       "    <tr>\n",
       "      <th rowspan=\"3\" valign=\"top\">2008</th>\n",
       "      <th>Adventure Works</th>\n",
       "      <td>2977.10</td>\n",
       "    </tr>\n",
       "    <tr>\n",
       "      <th>Contoso</th>\n",
       "      <td>705.20</td>\n",
       "    </tr>\n",
       "    <tr>\n",
       "      <th>Fabrikam</th>\n",
       "      <td>5444.13</td>\n",
       "    </tr>\n",
       "    <tr>\n",
       "      <th rowspan=\"3\" valign=\"top\">2009</th>\n",
       "      <th>Adventure Works</th>\n",
       "      <td>3002.93</td>\n",
       "    </tr>\n",
       "    <tr>\n",
       "      <th>Contoso</th>\n",
       "      <td>1502.81</td>\n",
       "    </tr>\n",
       "    <tr>\n",
       "      <th>Fabrikam</th>\n",
       "      <td>4971.59</td>\n",
       "    </tr>\n",
       "  </tbody>\n",
       "</table>\n",
       "</div>"
      ],
      "text/plain": [
       "                            Lucro\n",
       "Ano Venda Marca                  \n",
       "2008      Adventure Works 2977.10\n",
       "          Contoso          705.20\n",
       "          Fabrikam        5444.13\n",
       "2009      Adventure Works 3002.93\n",
       "          Contoso         1502.81\n",
       "          Fabrikam        4971.59"
      ]
     },
     "execution_count": 26,
     "metadata": {},
     "output_type": "execute_result"
    }
   ],
   "source": [
    "data[['Ano Venda','Marca','Lucro']].groupby(['Ano Venda','Marca']).mean()"
   ]
  },
  {
   "cell_type": "markdown",
   "id": "4afda6d0",
   "metadata": {},
   "source": [
    "### Qual o Total de Produtos Vendidos?"
   ]
  },
  {
   "cell_type": "code",
   "execution_count": 27,
   "id": "6fd22f81",
   "metadata": {
    "ExecuteTime": {
     "end_time": "2022-10-12T17:00:50.575941Z",
     "start_time": "2022-10-12T17:00:50.554936Z"
    }
   },
   "outputs": [
    {
     "data": {
      "text/html": [
       "<div>\n",
       "<style scoped>\n",
       "    .dataframe tbody tr th:only-of-type {\n",
       "        vertical-align: middle;\n",
       "    }\n",
       "\n",
       "    .dataframe tbody tr th {\n",
       "        vertical-align: top;\n",
       "    }\n",
       "\n",
       "    .dataframe thead th {\n",
       "        text-align: right;\n",
       "    }\n",
       "</style>\n",
       "<table border=\"1\" class=\"dataframe\">\n",
       "  <thead>\n",
       "    <tr style=\"text-align: right;\">\n",
       "      <th></th>\n",
       "      <th>Quantidade</th>\n",
       "    </tr>\n",
       "    <tr>\n",
       "      <th>Produto</th>\n",
       "      <th></th>\n",
       "    </tr>\n",
       "  </thead>\n",
       "  <tbody>\n",
       "    <tr>\n",
       "      <th>Headphone Adapter for Contoso Phone E130 Silver</th>\n",
       "      <td>25232</td>\n",
       "    </tr>\n",
       "    <tr>\n",
       "      <th>Headphone Adapter for Contoso Phone E130 White</th>\n",
       "      <td>25008</td>\n",
       "    </tr>\n",
       "    <tr>\n",
       "      <th>Adventure Works Laptop15.4W M1548 Black</th>\n",
       "      <td>1089</td>\n",
       "    </tr>\n",
       "    <tr>\n",
       "      <th>Fabrikam Trendsetter 2/3'' 17mm X100 Grey</th>\n",
       "      <td>1087</td>\n",
       "    </tr>\n",
       "    <tr>\n",
       "      <th>Adventure Works Laptop15.4W M1548 Red</th>\n",
       "      <td>1047</td>\n",
       "    </tr>\n",
       "    <tr>\n",
       "      <th>Fabrikam Trendsetter 2/3'' 17mm X100 Black</th>\n",
       "      <td>926</td>\n",
       "    </tr>\n",
       "    <tr>\n",
       "      <th>Fabrikam Trendsetter 1/3'' 8.5mm X200 Black</th>\n",
       "      <td>884</td>\n",
       "    </tr>\n",
       "    <tr>\n",
       "      <th>Fabrikam Trendsetter 1/3'' 8.5mm X200 Grey</th>\n",
       "      <td>845</td>\n",
       "    </tr>\n",
       "    <tr>\n",
       "      <th>Fabrikam Trendsetter 1/3'' 8.5mm X200 White</th>\n",
       "      <td>789</td>\n",
       "    </tr>\n",
       "  </tbody>\n",
       "</table>\n",
       "</div>"
      ],
      "text/plain": [
       "                                                 Quantidade\n",
       "Produto                                                    \n",
       "Headphone Adapter for Contoso Phone E130 Silver       25232\n",
       "Headphone Adapter for Contoso Phone E130 White        25008\n",
       "Adventure Works Laptop15.4W M1548 Black                1089\n",
       "Fabrikam Trendsetter 2/3'' 17mm X100 Grey              1087\n",
       "Adventure Works Laptop15.4W M1548 Red                  1047\n",
       "Fabrikam Trendsetter 2/3'' 17mm X100 Black              926\n",
       "Fabrikam Trendsetter 1/3'' 8.5mm X200 Black             884\n",
       "Fabrikam Trendsetter 1/3'' 8.5mm X200 Grey              845\n",
       "Fabrikam Trendsetter 1/3'' 8.5mm X200 White             789"
      ]
     },
     "execution_count": 27,
     "metadata": {},
     "output_type": "execute_result"
    }
   ],
   "source": [
    "data_aux=data[['Quantidade','Produto']].groupby('Produto').sum().sort_values('Quantidade',ascending=False)\n",
    "data_aux"
   ]
  },
  {
   "cell_type": "markdown",
   "id": "56475931",
   "metadata": {},
   "source": [
    "### Gráfico do Total de Produtos Vendidos"
   ]
  },
  {
   "cell_type": "code",
   "execution_count": 28,
   "id": "b5930915",
   "metadata": {
    "ExecuteTime": {
     "end_time": "2022-10-12T17:00:51.117063Z",
     "start_time": "2022-10-12T17:00:50.907015Z"
    }
   },
   "outputs": [
    {
     "data": {
      "image/png": "[encoded data removed]",
      "text/plain": [
       "<Figure size 432x288 with 1 Axes>"
      ]
     },
     "metadata": {
      "needs_background": "light"
     },
     "output_type": "display_data"
    }
   ],
   "source": [
    "data_aux.plot.barh(title=\"Total Produtos Vendidos\")\n",
    "plt.xlabel(\"Total\")\n",
    "plt.ylabel(\"Produto\");"
   ]
  },
  {
   "cell_type": "markdown",
   "id": "580753bd",
   "metadata": {},
   "source": [
    "### Gráfico do Lucro Total"
   ]
  },
  {
   "cell_type": "code",
   "execution_count": 29,
   "id": "15ef2b89",
   "metadata": {
    "ExecuteTime": {
     "end_time": "2022-10-12T17:00:51.261096Z",
     "start_time": "2022-10-12T17:00:51.240090Z"
    },
    "scrolled": true
   },
   "outputs": [
    {
     "data": {
      "text/html": [
       "<div>\n",
       "<style scoped>\n",
       "    .dataframe tbody tr th:only-of-type {\n",
       "        vertical-align: middle;\n",
       "    }\n",
       "\n",
       "    .dataframe tbody tr th {\n",
       "        vertical-align: top;\n",
       "    }\n",
       "\n",
       "    .dataframe thead th {\n",
       "        text-align: right;\n",
       "    }\n",
       "</style>\n",
       "<table border=\"1\" class=\"dataframe\">\n",
       "  <thead>\n",
       "    <tr style=\"text-align: right;\">\n",
       "      <th></th>\n",
       "      <th>Lucro</th>\n",
       "    </tr>\n",
       "    <tr>\n",
       "      <th>Ano Venda</th>\n",
       "      <th></th>\n",
       "    </tr>\n",
       "  </thead>\n",
       "  <tbody>\n",
       "    <tr>\n",
       "      <th>2008</th>\n",
       "      <td>1920077.71</td>\n",
       "    </tr>\n",
       "    <tr>\n",
       "      <th>2009</th>\n",
       "      <td>1577745.38</td>\n",
       "    </tr>\n",
       "  </tbody>\n",
       "</table>\n",
       "</div>"
      ],
      "text/plain": [
       "               Lucro\n",
       "Ano Venda           \n",
       "2008      1920077.71\n",
       "2009      1577745.38"
      ]
     },
     "execution_count": 29,
     "metadata": {},
     "output_type": "execute_result"
    }
   ],
   "source": [
    "data_aux=data[['Ano Venda','Lucro']].groupby('Ano Venda').sum()\n",
    "data_aux"
   ]
  },
  {
   "cell_type": "code",
   "execution_count": 30,
   "id": "06c01bb3",
   "metadata": {
    "ExecuteTime": {
     "end_time": "2022-10-12T17:00:51.531156Z",
     "start_time": "2022-10-12T17:00:51.420131Z"
    }
   },
   "outputs": [
    {
     "data": {
      "image/png": "[encoded data removed]",
      "text/plain": [
       "<Figure size 432x288 with 1 Axes>"
      ]
     },
     "metadata": {
      "needs_background": "light"
     },
     "output_type": "display_data"
    }
   ],
   "source": [
    "data_aux.plot.bar(title=\"Lucro x Ano\")\n",
    "plt.xlabel(\"Receita\")\n",
    "plt.ylabel(\"Ano\");"
   ]
  },
  {
   "cell_type": "markdown",
   "id": "7a4612aa",
   "metadata": {},
   "source": [
    "### Gráfico das Vendas em 2009"
   ]
  },
  {
   "cell_type": "code",
   "execution_count": 31,
   "id": "fb80aeae",
   "metadata": {
    "ExecuteTime": {
     "end_time": "2022-10-12T17:00:51.801217Z",
     "start_time": "2022-10-12T17:00:51.788214Z"
    }
   },
   "outputs": [
    {
     "data": {
      "text/html": [
       "<div>\n",
       "<style scoped>\n",
       "    .dataframe tbody tr th:only-of-type {\n",
       "        vertical-align: middle;\n",
       "    }\n",
       "\n",
       "    .dataframe tbody tr th {\n",
       "        vertical-align: top;\n",
       "    }\n",
       "\n",
       "    .dataframe thead th {\n",
       "        text-align: right;\n",
       "    }\n",
       "</style>\n",
       "<table border=\"1\" class=\"dataframe\">\n",
       "  <thead>\n",
       "    <tr style=\"text-align: right;\">\n",
       "      <th></th>\n",
       "      <th>Data Venda</th>\n",
       "      <th>Lucro</th>\n",
       "    </tr>\n",
       "  </thead>\n",
       "  <tbody>\n",
       "    <tr>\n",
       "      <th>11</th>\n",
       "      <td>2009-05-02</td>\n",
       "      <td>2456.52</td>\n",
       "    </tr>\n",
       "    <tr>\n",
       "      <th>12</th>\n",
       "      <td>2009-05-16</td>\n",
       "      <td>2456.52</td>\n",
       "    </tr>\n",
       "    <tr>\n",
       "      <th>13</th>\n",
       "      <td>2009-05-31</td>\n",
       "      <td>2456.52</td>\n",
       "    </tr>\n",
       "    <tr>\n",
       "      <th>14</th>\n",
       "      <td>2009-06-28</td>\n",
       "      <td>2456.52</td>\n",
       "    </tr>\n",
       "    <tr>\n",
       "      <th>15</th>\n",
       "      <td>2009-07-08</td>\n",
       "      <td>2456.52</td>\n",
       "    </tr>\n",
       "    <tr>\n",
       "      <th>...</th>\n",
       "      <td>...</td>\n",
       "      <td>...</td>\n",
       "    </tr>\n",
       "    <tr>\n",
       "      <th>890</th>\n",
       "      <td>2009-12-23</td>\n",
       "      <td>2755.86</td>\n",
       "    </tr>\n",
       "    <tr>\n",
       "      <th>895</th>\n",
       "      <td>2009-01-11</td>\n",
       "      <td>3049.86</td>\n",
       "    </tr>\n",
       "    <tr>\n",
       "      <th>896</th>\n",
       "      <td>2009-03-04</td>\n",
       "      <td>2755.86</td>\n",
       "    </tr>\n",
       "    <tr>\n",
       "      <th>897</th>\n",
       "      <td>2009-06-12</td>\n",
       "      <td>3408.66</td>\n",
       "    </tr>\n",
       "    <tr>\n",
       "      <th>898</th>\n",
       "      <td>2009-06-25</td>\n",
       "      <td>3343.86</td>\n",
       "    </tr>\n",
       "  </tbody>\n",
       "</table>\n",
       "<p>435 rows × 2 columns</p>\n",
       "</div>"
      ],
      "text/plain": [
       "    Data Venda   Lucro\n",
       "11  2009-05-02 2456.52\n",
       "12  2009-05-16 2456.52\n",
       "13  2009-05-31 2456.52\n",
       "14  2009-06-28 2456.52\n",
       "15  2009-07-08 2456.52\n",
       "..         ...     ...\n",
       "890 2009-12-23 2755.86\n",
       "895 2009-01-11 3049.86\n",
       "896 2009-03-04 2755.86\n",
       "897 2009-06-12 3408.66\n",
       "898 2009-06-25 3343.86\n",
       "\n",
       "[435 rows x 2 columns]"
      ]
     },
     "execution_count": 31,
     "metadata": {},
     "output_type": "execute_result"
    }
   ],
   "source": [
    "data[data['Data Venda'].dt.year==2009][['Data Venda','Lucro']]"
   ]
  },
  {
   "cell_type": "code",
   "execution_count": 32,
   "id": "31f18ffd",
   "metadata": {
    "ExecuteTime": {
     "end_time": "2022-10-12T17:00:52.184303Z",
     "start_time": "2022-10-12T17:00:51.997261Z"
    }
   },
   "outputs": [
    {
     "data": {
      "image/png": "[encoded data removed]",
      "text/plain": [
       "<Figure size 432x288 with 1 Axes>"
      ]
     },
     "metadata": {
      "needs_background": "light"
     },
     "output_type": "display_data"
    }
   ],
   "source": [
    "data[data['Data Venda'].dt.year==2009][['Data Venda','Lucro']].groupby(data['Data Venda'].dt.month).sum().plot(title=\"Lucro x Mês\")\n",
    "plt.xlabel(\"Mês\")\n",
    "plt.ylabel(\"Lucro\");"
   ]
  },
  {
   "cell_type": "markdown",
   "id": "eae8709c",
   "metadata": {},
   "source": [
    "### Gráfico do Lucro de cada Marca"
   ]
  },
  {
   "cell_type": "code",
   "execution_count": 33,
   "id": "fd81d234",
   "metadata": {
    "ExecuteTime": {
     "end_time": "2022-10-12T17:00:52.471368Z",
     "start_time": "2022-10-12T17:00:52.367345Z"
    }
   },
   "outputs": [
    {
     "data": {
      "image/png": "[encoded data removed]",
      "text/plain": [
       "<Figure size 432x288 with 1 Axes>"
      ]
     },
     "metadata": {
      "needs_background": "light"
     },
     "output_type": "display_data"
    }
   ],
   "source": [
    "data[data['Data Venda'].dt.year==2009][['Marca','Lucro']].groupby('Marca').sum().plot.bar(title=\"Lucro x Marca\")\n",
    "plt.xlabel(\"Marca\")\n",
    "plt.ylabel(\"Lucro\")\n",
    "plt.xticks(rotation='horizontal');"
   ]
  },
  {
   "cell_type": "markdown",
   "id": "7fa24e76",
   "metadata": {},
   "source": [
    "### Gráfico do Lucro de cada Classe "
   ]
  },
  {
   "cell_type": "code",
   "execution_count": 34,
   "id": "b988c813",
   "metadata": {
    "ExecuteTime": {
     "end_time": "2022-10-12T17:00:52.869458Z",
     "start_time": "2022-10-12T17:00:52.757432Z"
    }
   },
   "outputs": [
    {
     "data": {
      "image/png": "[encoded data removed]",
      "text/plain": [
       "<Figure size 432x288 with 1 Axes>"
      ]
     },
     "metadata": {
      "needs_background": "light"
     },
     "output_type": "display_data"
    }
   ],
   "source": [
    "data[data['Data Venda'].dt.year==2009][['Classe','Lucro']].groupby('Classe').sum().plot.bar(title=\"Lucro x Classe\")\n",
    "plt.xlabel(\"Classe\")\n",
    "plt.ylabel(\"Lucro\")\n",
    "plt.xticks(rotation='horizontal');"
   ]
  },
  {
   "cell_type": "markdown",
   "id": "1681b93f",
   "metadata": {},
   "source": [
    "### Gráfico Boxplot do 'Templo de Envio'"
   ]
  },
  {
   "cell_type": "code",
   "execution_count": 35,
   "id": "8e3746d3",
   "metadata": {
    "ExecuteTime": {
     "end_time": "2022-10-12T17:00:53.205533Z",
     "start_time": "2022-10-12T17:00:53.189530Z"
    }
   },
   "outputs": [
    {
     "data": {
      "text/plain": [
       "count   904.00\n",
       "mean      8.54\n",
       "std       3.06\n",
       "min       4.00\n",
       "25%       6.00\n",
       "50%       9.00\n",
       "75%      11.00\n",
       "max      20.00\n",
       "Name: Tempo de Envio, dtype: float64"
      ]
     },
     "execution_count": 35,
     "metadata": {},
     "output_type": "execute_result"
    }
   ],
   "source": [
    "data['Tempo de Envio'].describe()"
   ]
  },
  {
   "cell_type": "code",
   "execution_count": 36,
   "id": "342c2a7a",
   "metadata": {
    "ExecuteTime": {
     "end_time": "2022-10-12T17:00:53.507601Z",
     "start_time": "2022-10-12T17:00:53.417582Z"
    }
   },
   "outputs": [
    {
     "data": {
      "image/png": "[encoded data removed]",
      "text/plain": [
       "<Figure size 432x288 with 1 Axes>"
      ]
     },
     "metadata": {
      "needs_background": "light"
     },
     "output_type": "display_data"
    }
   ],
   "source": [
    "plt.boxplot(data['Tempo de Envio']);"
   ]
  },
  {
   "cell_type": "markdown",
   "id": "7c84e0d1",
   "metadata": {},
   "source": [
    "### Histograma do 'Tempo de Envio'"
   ]
  },
  {
   "cell_type": "code",
   "execution_count": 37,
   "id": "00895947",
   "metadata": {
    "ExecuteTime": {
     "end_time": "2022-10-12T17:00:54.128742Z",
     "start_time": "2022-10-12T17:00:53.924695Z"
    }
   },
   "outputs": [
    {
     "data": {
      "image/png": "[encoded data removed]",
      "text/plain": [
       "<Figure size 432x288 with 1 Axes>"
      ]
     },
     "metadata": {
      "needs_background": "light"
     },
     "output_type": "display_data"
    }
   ],
   "source": [
    "plt.hist(data['Tempo de Envio']);"
   ]
  },
  {
   "cell_type": "markdown",
   "id": "c11c5b85",
   "metadata": {},
   "source": [
    "### Tempo Mínimo de Envio"
   ]
  },
  {
   "cell_type": "code",
   "execution_count": 38,
   "id": "9a0b3343",
   "metadata": {
    "ExecuteTime": {
     "end_time": "2022-10-12T17:00:55.224989Z",
     "start_time": "2022-10-12T17:00:55.206984Z"
    }
   },
   "outputs": [
    {
     "data": {
      "text/plain": [
       "4"
      ]
     },
     "execution_count": 38,
     "metadata": {},
     "output_type": "execute_result"
    }
   ],
   "source": [
    "data['Tempo de Envio'].min()"
   ]
  },
  {
   "cell_type": "markdown",
   "id": "7323dd8f",
   "metadata": {},
   "source": [
    "### Tempo Máximo de Envio"
   ]
  },
  {
   "cell_type": "code",
   "execution_count": 39,
   "id": "4e666182",
   "metadata": {
    "ExecuteTime": {
     "end_time": "2022-10-12T17:00:56.627305Z",
     "start_time": "2022-10-12T17:00:56.622304Z"
    }
   },
   "outputs": [
    {
     "data": {
      "text/plain": [
       "20"
      ]
     },
     "execution_count": 39,
     "metadata": {},
     "output_type": "execute_result"
    }
   ],
   "source": [
    "data['Tempo de Envio'].max()"
   ]
  },
  {
   "cell_type": "markdown",
   "id": "c814aceb",
   "metadata": {},
   "source": [
    "### Identificação do Outlier"
   ]
  },
  {
   "cell_type": "code",
   "execution_count": 40,
   "id": "dd738b8d",
   "metadata": {
    "ExecuteTime": {
     "end_time": "2022-10-12T17:00:59.078857Z",
     "start_time": "2022-10-12T17:00:59.060853Z"
    }
   },
   "outputs": [
    {
     "data": {
      "text/html": [
       "<div>\n",
       "<style scoped>\n",
       "    .dataframe tbody tr th:only-of-type {\n",
       "        vertical-align: middle;\n",
       "    }\n",
       "\n",
       "    .dataframe tbody tr th {\n",
       "        vertical-align: top;\n",
       "    }\n",
       "\n",
       "    .dataframe thead th {\n",
       "        text-align: right;\n",
       "    }\n",
       "</style>\n",
       "<table border=\"1\" class=\"dataframe\">\n",
       "  <thead>\n",
       "    <tr style=\"text-align: right;\">\n",
       "      <th></th>\n",
       "      <th>Data Venda</th>\n",
       "      <th>Data Envio</th>\n",
       "      <th>ID Loja</th>\n",
       "      <th>ID Produto</th>\n",
       "      <th>ID Cliente</th>\n",
       "      <th>No. Venda</th>\n",
       "      <th>Custo Unitário</th>\n",
       "      <th>Preço Unitário</th>\n",
       "      <th>Quantidade</th>\n",
       "      <th>Valor Desconto</th>\n",
       "      <th>Valor Venda</th>\n",
       "      <th>Produto</th>\n",
       "      <th>Fabricante</th>\n",
       "      <th>Marca</th>\n",
       "      <th>Classe</th>\n",
       "      <th>Cor</th>\n",
       "      <th>Custo Total</th>\n",
       "      <th>Lucro</th>\n",
       "      <th>Tempo de Envio</th>\n",
       "      <th>Ano Venda</th>\n",
       "    </tr>\n",
       "  </thead>\n",
       "  <tbody>\n",
       "    <tr>\n",
       "      <th>0</th>\n",
       "      <td>2008-05-09</td>\n",
       "      <td>2008-05-29</td>\n",
       "      <td>199</td>\n",
       "      <td>384</td>\n",
       "      <td>18839</td>\n",
       "      <td>200805093CS607</td>\n",
       "      <td>348.58</td>\n",
       "      <td>758.00</td>\n",
       "      <td>6</td>\n",
       "      <td>0.00</td>\n",
       "      <td>4548.00</td>\n",
       "      <td>Adventure Works Laptop15.4W M1548 Red</td>\n",
       "      <td>Adventure Works</td>\n",
       "      <td>Adventure Works</td>\n",
       "      <td>Regular</td>\n",
       "      <td>Red</td>\n",
       "      <td>2091.48</td>\n",
       "      <td>2456.52</td>\n",
       "      <td>20</td>\n",
       "      <td>2008</td>\n",
       "    </tr>\n",
       "  </tbody>\n",
       "</table>\n",
       "</div>"
      ],
      "text/plain": [
       "  Data Venda Data Envio  ID Loja  ID Produto  ID Cliente       No. Venda  \\\n",
       "0 2008-05-09 2008-05-29      199         384       18839  200805093CS607   \n",
       "\n",
       "   Custo Unitário  Preço Unitário  Quantidade  Valor Desconto  Valor Venda  \\\n",
       "0          348.58          758.00           6            0.00      4548.00   \n",
       "\n",
       "                                 Produto       Fabricante            Marca  \\\n",
       "0  Adventure Works Laptop15.4W M1548 Red  Adventure Works  Adventure Works   \n",
       "\n",
       "    Classe  Cor  Custo Total   Lucro  Tempo de Envio  Ano Venda  \n",
       "0  Regular  Red      2091.48 2456.52              20       2008  "
      ]
     },
     "execution_count": 40,
     "metadata": {},
     "output_type": "execute_result"
    }
   ],
   "source": [
    "data[data['Tempo de Envio']==20]"
   ]
  },
  {
   "cell_type": "markdown",
   "id": "d9d5be81",
   "metadata": {},
   "source": [
    "### Salvando as Alterações em um Arquivo CSV"
   ]
  },
  {
   "cell_type": "code",
   "execution_count": 42,
   "id": "c087c462",
   "metadata": {
    "ExecuteTime": {
     "end_time": "2022-10-12T17:01:13.355076Z",
     "start_time": "2022-10-12T17:01:13.115022Z"
    }
   },
   "outputs": [],
   "source": [
    "data.to_csv('AdventureWorks_alterado.csv', index=False)"
   ]
  },
  {
   "cell_type": "code",
   "execution_count": null,
   "id": "ad48da1f",
   "metadata": {},
   "outputs": [],
   "source": []
  }
 ],
 "metadata": {
  "kernelspec": {
   "display_name": "Python 3 (ipykernel)",
   "language": "python",
   "name": "python3"
  },
  "language_info": {
   "codemirror_mode": {
    "name": "ipython",
    "version": 3
   },
   "file_extension": ".py",
   "mimetype": "text/x-python",
   "name": "python",
   "nbconvert_exporter": "python",
   "pygments_lexer": "ipython3",
   "version": "3.10.6"
  },
  "latex_envs": {
   "LaTeX_envs_menu_present": true,
   "autoclose": false,
   "autocomplete": true,
   "bibliofile": "biblio.bib",
   "cite_by": "apalike",
   "current_citInitial": 1,
   "eqLabelWithNumbers": true,
   "eqNumInitial": 1,
   "hotkeys": {
    "equation": "Ctrl-E",
    "itemize": "Ctrl-I"
   },
   "labels_anchors": false,
   "latex_user_defs": false,
   "report_style_numbering": false,
   "user_envs_cfg": false
  },
  "varInspector": {
   "cols": {
    "lenName": 16,
    "lenType": 16,
    "lenVar": 40
   },
   "kernels_config": {
    "python": {
     "delete_cmd_postfix": "",
     "delete_cmd_prefix": "del ",
     "library": "var_list.py",
     "varRefreshCmd": "print(var_dic_list())"
    },
    "r": {
     "delete_cmd_postfix": ") ",
     "delete_cmd_prefix": "rm(",
     "library": "var_list.r",
     "varRefreshCmd": "cat(var_dic_list()) "
    }
   },
   "types_to_exclude": [
    "module",
    "function",
    "builtin_function_or_method",
    "instance",
    "_Feature"
   ],
   "window_display": false
  }
 },
 "nbformat": 4,
 "nbformat_minor": 5
}
